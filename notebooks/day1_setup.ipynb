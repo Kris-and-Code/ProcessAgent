{
  "cells": [
    {
      "cell_type": "markdown",
      "metadata": {},
      "source": [
        "# ProcessAgent — Day 1 Setup\n",
        "\n",
        "This notebook verifies the environment and shows basic usage stubs.\n"
      ]
    },
    {
      "cell_type": "code",
      "execution_count": null,
      "metadata": {},
      "outputs": [],
      "source": [
        "from process_agent.core import Orchestrator\n",
        "orch = Orchestrator()\n",
        "result = orch.run({\"material\": \"aluminum_6061\", \"drill_holes\": [{\"diameter_mm\":3, \"depth_mm\":5, \"position\":[10,10]}]})\n",
        "result['valid'], len(result['gcode'].splitlines())\n"
      ]
    }
  ],
  "metadata": {
    "language_info": {
      "name": "python"
    }
  },
  "nbformat": 4,
  "nbformat_minor": 2
}
